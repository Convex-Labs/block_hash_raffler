{
 "cells": [
  {
   "cell_type": "code",
   "execution_count": 4,
   "id": "96a7d834",
   "metadata": {},
   "outputs": [
    {
     "name": "stdout",
     "output_type": "stream",
     "text": [
      "raffling token #1\n",
      "Random Number: 259.1892464387877\n",
      "0x8fa18bcffc01366a0e29b99cf1c372f86e61ffcb\n",
      "raffling token #2\n",
      "Random Number: 382.3913246786655\n",
      "0xee90b5c09d1786bc0491eb4df8c5be6335cb5d94\n",
      "raffling token #3\n",
      "Random Number: 28.064849995863334\n",
      "0x2df7733027338982c9f145ed52da9fb026b7ffec\n",
      "raffling token #4\n",
      "Random Number: 62.62936161417214\n",
      "0x2df7733027338982c9f145ed52da9fb026b7ffec\n",
      "raffling token #5\n",
      "Random Number: 150.6262486135677\n",
      "0x4d1184b7e24b7d2f9d83df7ec66ca45d2843cd11\n",
      "raffling token #6\n",
      "Random Number: 103.75382496173886\n",
      "0x42cebff3adf64633eb4186a8774e945b1ba9ec44\n",
      "raffling token #7\n",
      "Random Number: 397.0891876068211\n",
      "0xfeb2b508a27e5ae8cfa78e5c6c84b57b7eddc6ee\n",
      "raffling token #8\n",
      "Random Number: 246.20873193101698\n",
      "0x8d7c9ae01050a31972adaafae1a4d682f0f5a5ca\n",
      "raffling token #9\n",
      "Random Number: 261.3911300793231\n",
      "0x94b77cac7240feaba6d61ff4875aa261cf9c72ba\n",
      "raffling token #10\n",
      "Random Number: 262.9259103621494\n",
      "0x94da628b4b562152d9a25a6926a64d55148b83c9\n",
      "raffling token #69\n",
      "Random Number: 160.28380350435643\n",
      "0x50e75dd6892a2138c611c5b7f3d3143c4b242ecb\n",
      "raffling token #420\n",
      "Random Number: 373.51330045293355\n",
      "0xec039376a3a946c7d116a48e1afb93fcc146eeae\n"
     ]
    }
   ],
   "source": [
    "'''\n",
    "raffles off vigilantes\n",
    "\n",
    "Inputs:\n",
    "    ENTRIES:\n",
    "        dataframe with columns: \n",
    "            address (str) - addresses entered in the raffle\n",
    "            num_raffle_tickets (float) - number of raffle tickets per account \n",
    "    SEED:\n",
    "        randomly selected string (usually a block hash)\n",
    "    TOKENS_TO_RAFFLE:\n",
    "        list of token IDs to raffle\n",
    "Outputs: \n",
    "    prints list of winners\n",
    "'''\n",
    "\n",
    "ENTRIES='vigilante_raffle_tickets.csv' \n",
    "SEED='0xb33c92b3314a54ff975657a66861b307628db4f735ce8eb05b71f610ddfb51' #Ethereum block# 14386035 hash\n",
    "TOKENS_TO_RAFFLE = [1,2,3,4,5,6,7,8,9,10,69,420]\n",
    "\n",
    "\n",
    "import pandas as pd\n",
    "import random\n",
    "\n",
    "entry_df=pd.read_csv(ENTRIES)\n",
    "random.seed(SEED)\n",
    "entry_df['ticket_index']=entry_df['num_raffle_tickets'].cumsum()\n",
    "\n",
    "def draw_raffle(entries):\n",
    "    max_number = entries['num_raffle_tickets'].sum()#number drawn will be below this\n",
    "    random_number = random.uniform(0,max_number)\n",
    "    print('Random Number: '+str(random_number))\n",
    "    row_iterator = entries.iterrows()\n",
    "    #iterate through entries until the address that has ticket >= random number\n",
    "    for index, row in entries.iterrows():\n",
    "        if row['ticket_index']>=random_number:\n",
    "            return row['address']\n",
    "            \n",
    "for token in TOKENS_TO_RAFFLE:\n",
    "    print('raffling vigilante #' +str(token))\n",
    "    print(draw_raffle(entry_df))\n",
    "    \n",
    "\n",
    "    \n"
   ]
  },
  {
   "cell_type": "code",
   "execution_count": 5,
   "id": "2c9bb401",
   "metadata": {},
   "outputs": [
    {
     "data": {
      "text/html": [
       "<div>\n",
       "<style scoped>\n",
       "    .dataframe tbody tr th:only-of-type {\n",
       "        vertical-align: middle;\n",
       "    }\n",
       "\n",
       "    .dataframe tbody tr th {\n",
       "        vertical-align: top;\n",
       "    }\n",
       "\n",
       "    .dataframe thead th {\n",
       "        text-align: right;\n",
       "    }\n",
       "</style>\n",
       "<table border=\"1\" class=\"dataframe\">\n",
       "  <thead>\n",
       "    <tr style=\"text-align: right;\">\n",
       "      <th></th>\n",
       "      <th>address</th>\n",
       "      <th>num_minted</th>\n",
       "      <th>price</th>\n",
       "      <th>num_raffle_tickets</th>\n",
       "      <th>ticket_index</th>\n",
       "    </tr>\n",
       "  </thead>\n",
       "  <tbody>\n",
       "    <tr>\n",
       "      <th>0</th>\n",
       "      <td>0x0078ac6e2ef054974a5848eddc2c48f21b7db786</td>\n",
       "      <td>1</td>\n",
       "      <td>0.1</td>\n",
       "      <td>1.0</td>\n",
       "      <td>1.00</td>\n",
       "    </tr>\n",
       "    <tr>\n",
       "      <th>1</th>\n",
       "      <td>0x0810865e731dc1cd9b38487c02c33571fe58bedb</td>\n",
       "      <td>1</td>\n",
       "      <td>0.1</td>\n",
       "      <td>1.0</td>\n",
       "      <td>2.00</td>\n",
       "    </tr>\n",
       "    <tr>\n",
       "      <th>2</th>\n",
       "      <td>0x0b9ef309141bb050238d8a73d1fed0dec50a5405</td>\n",
       "      <td>3</td>\n",
       "      <td>0.1</td>\n",
       "      <td>3.0</td>\n",
       "      <td>5.00</td>\n",
       "    </tr>\n",
       "    <tr>\n",
       "      <th>3</th>\n",
       "      <td>0x112325a63a4c534bc9a00c5549e87184238562b6</td>\n",
       "      <td>1</td>\n",
       "      <td>0.1</td>\n",
       "      <td>1.0</td>\n",
       "      <td>6.00</td>\n",
       "    </tr>\n",
       "    <tr>\n",
       "      <th>4</th>\n",
       "      <td>0x190cff3a6740e092aef02acc6f2929a44547c6c8</td>\n",
       "      <td>3</td>\n",
       "      <td>0.1</td>\n",
       "      <td>3.0</td>\n",
       "      <td>9.00</td>\n",
       "    </tr>\n",
       "    <tr>\n",
       "      <th>...</th>\n",
       "      <td>...</td>\n",
       "      <td>...</td>\n",
       "      <td>...</td>\n",
       "      <td>...</td>\n",
       "      <td>...</td>\n",
       "    </tr>\n",
       "    <tr>\n",
       "      <th>103</th>\n",
       "      <td>0xee90b5c09d1786bc0491eb4df8c5be6335cb5d94</td>\n",
       "      <td>6</td>\n",
       "      <td>0.1</td>\n",
       "      <td>6.0</td>\n",
       "      <td>386.32</td>\n",
       "    </tr>\n",
       "    <tr>\n",
       "      <th>104</th>\n",
       "      <td>0xf29c6918459339ce1d152f84fb271652956c5c5f</td>\n",
       "      <td>2</td>\n",
       "      <td>0.1</td>\n",
       "      <td>2.0</td>\n",
       "      <td>388.32</td>\n",
       "    </tr>\n",
       "    <tr>\n",
       "      <th>105</th>\n",
       "      <td>0xf6cd494f62e156090bf0034481b891426b8177ac</td>\n",
       "      <td>2</td>\n",
       "      <td>0.1</td>\n",
       "      <td>2.0</td>\n",
       "      <td>390.32</td>\n",
       "    </tr>\n",
       "    <tr>\n",
       "      <th>106</th>\n",
       "      <td>0xf9567f184de6b1fcf617850de093f78f6c78b0f6</td>\n",
       "      <td>5</td>\n",
       "      <td>0.1</td>\n",
       "      <td>5.0</td>\n",
       "      <td>395.32</td>\n",
       "    </tr>\n",
       "    <tr>\n",
       "      <th>107</th>\n",
       "      <td>0xfeb2b508a27e5ae8cfa78e5c6c84b57b7eddc6ee</td>\n",
       "      <td>2</td>\n",
       "      <td>0.1</td>\n",
       "      <td>2.0</td>\n",
       "      <td>397.32</td>\n",
       "    </tr>\n",
       "  </tbody>\n",
       "</table>\n",
       "<p>108 rows × 5 columns</p>\n",
       "</div>"
      ],
      "text/plain": [
       "                                        address  num_minted  price  \\\n",
       "0    0x0078ac6e2ef054974a5848eddc2c48f21b7db786           1    0.1   \n",
       "1    0x0810865e731dc1cd9b38487c02c33571fe58bedb           1    0.1   \n",
       "2    0x0b9ef309141bb050238d8a73d1fed0dec50a5405           3    0.1   \n",
       "3    0x112325a63a4c534bc9a00c5549e87184238562b6           1    0.1   \n",
       "4    0x190cff3a6740e092aef02acc6f2929a44547c6c8           3    0.1   \n",
       "..                                          ...         ...    ...   \n",
       "103  0xee90b5c09d1786bc0491eb4df8c5be6335cb5d94           6    0.1   \n",
       "104  0xf29c6918459339ce1d152f84fb271652956c5c5f           2    0.1   \n",
       "105  0xf6cd494f62e156090bf0034481b891426b8177ac           2    0.1   \n",
       "106  0xf9567f184de6b1fcf617850de093f78f6c78b0f6           5    0.1   \n",
       "107  0xfeb2b508a27e5ae8cfa78e5c6c84b57b7eddc6ee           2    0.1   \n",
       "\n",
       "     num_raffle_tickets  ticket_index  \n",
       "0                   1.0          1.00  \n",
       "1                   1.0          2.00  \n",
       "2                   3.0          5.00  \n",
       "3                   1.0          6.00  \n",
       "4                   3.0          9.00  \n",
       "..                  ...           ...  \n",
       "103                 6.0        386.32  \n",
       "104                 2.0        388.32  \n",
       "105                 2.0        390.32  \n",
       "106                 5.0        395.32  \n",
       "107                 2.0        397.32  \n",
       "\n",
       "[108 rows x 5 columns]"
      ]
     },
     "execution_count": 5,
     "metadata": {},
     "output_type": "execute_result"
    }
   ],
   "source": [
    "entry_df"
   ]
  },
  {
   "cell_type": "code",
   "execution_count": 98,
   "id": "b713a2ff",
   "metadata": {},
   "outputs": [
    {
     "name": "stdout",
     "output_type": "stream",
     "text": [
      "Random Number: 5.383413788371326\n"
     ]
    },
    {
     "data": {
      "text/plain": [
       "'charlie'"
      ]
     },
     "execution_count": 98,
     "metadata": {},
     "output_type": "execute_result"
    }
   ],
   "source": [
    "draw_raffle(entry_df)"
   ]
  },
  {
   "cell_type": "code",
   "execution_count": 100,
   "id": "89cdcd63",
   "metadata": {},
   "outputs": [
    {
     "name": "stdout",
     "output_type": "stream",
     "text": [
      "Random Number: 1.4756500064970401\n"
     ]
    },
    {
     "data": {
      "text/plain": [
       "'bob'"
      ]
     },
     "execution_count": 100,
     "metadata": {},
     "output_type": "execute_result"
    }
   ],
   "source": [
    "draw_raffle(entry_df)"
   ]
  },
  {
   "cell_type": "code",
   "execution_count": null,
   "id": "a4b34145",
   "metadata": {},
   "outputs": [],
   "source": []
  },
  {
   "cell_type": "code",
   "execution_count": null,
   "id": "0eba0315",
   "metadata": {},
   "outputs": [],
   "source": []
  }
 ],
 "metadata": {
  "kernelspec": {
   "display_name": "Python 3 (ipykernel)",
   "language": "python",
   "name": "python3"
  },
  "language_info": {
   "codemirror_mode": {
    "name": "ipython",
    "version": 3
   },
   "file_extension": ".py",
   "mimetype": "text/x-python",
   "name": "python",
   "nbconvert_exporter": "python",
   "pygments_lexer": "ipython3",
   "version": "3.8.10"
  }
 },
 "nbformat": 4,
 "nbformat_minor": 5
}
